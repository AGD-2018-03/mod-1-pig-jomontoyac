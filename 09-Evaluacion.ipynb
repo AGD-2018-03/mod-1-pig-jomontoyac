{
 "cells": [
  {
   "cell_type": "markdown",
   "metadata": {},
   "source": [
    "**Recuerde no agregar o quitar celdas en este notebook, ni modificar su tipo. Si lo hace, el sistema automaticamente lo calificará con cero punto cero (0.0)**"
   ]
  },
  {
   "cell_type": "markdown",
   "metadata": {},
   "source": [
    "Use el siguiente conjunto de datos para resolver los problemas propuestos. Use [gradetool](gradetool.md) para verificar las respuestas del notebook."
   ]
  },
  {
   "cell_type": "code",
   "execution_count": 1,
   "metadata": {},
   "outputs": [
    {
     "name": "stdout",
     "output_type": "stream",
     "text": [
      "Writing data.csv\n"
     ]
    }
   ],
   "source": [
    "%%writefile data.csv\n",
    "1,Vivian,Hamilton,1971-07-08,green,1\n",
    "2,Karen,Holcomb,1974-05-23,green,4\n",
    "3,Cody,Garrett,1973-04-22,orange,1\n",
    "4,Roth,Fry,1975-01-29,black,1\n",
    "5,Zoe,Conway,1974-07-03,blue,2\n",
    "6,Gretchen,Kinney,1974-10-18,viole,1\n",
    "7,Driscoll,Klein,1970-10-05,blue,5\n",
    "8,Karyn,Diaz,1969-02-24,red,1\n",
    "9,Merritt,Guy,1974-10-17,indigo,4\n",
    "10,Kylan,Sexton,1975-02-28,black,4\n",
    "11,Jordan,Estes,1969-12-07,indigo,4\n",
    "12,Hope,Coffey,1973-12-24,green,5\n",
    "13,Vivian,Crane,1970-08-27,gray,5\n",
    "14,Clio,Noel,1972-12-12,red,5\n",
    "15,Hope,Silva,1970-07-01,blue,5\n",
    "16,Ayanna,Jarvis,1974-02-11,orange,5\n",
    "17,Chanda,Boyer,1973-04-01,green,4\n",
    "18,Chadwick,Knight,1973-04-29,yellow,1"
   ]
  },
  {
   "cell_type": "code",
   "execution_count": 2,
   "metadata": {
    "collapsed": true
   },
   "outputs": [],
   "source": [
    "%load_ext bigdata\n",
    "%pig_init"
   ]
  },
  {
   "cell_type": "code",
   "execution_count": 3,
   "metadata": {
    "collapsed": true,
    "scrolled": true
   },
   "outputs": [],
   "source": [
    "%%pig\n",
    "u = LOAD 'data.csv' USING PigStorage(',') \n",
    "    AS (id:int, \n",
    "        firstname:CHARARRAY, \n",
    "        surname:CHARARRAY, \n",
    "        birthday:CHARARRAY, \n",
    "        color:CHARARRAY, \n",
    "        quantity:INT);"
   ]
  },
  {
   "cell_type": "markdown",
   "metadata": {},
   "source": [
    "## Pregunta 1\n",
    "\n",
    "Escriba una consulta en Pig que genere la siguiente salida:\n",
    "\n",
    "    (Vivian@Hamilton)\n",
    "    (Karen@Holcomb)\n",
    "    (Cody@Garrett)\n",
    "    (Roth@Fry)\n",
    "    (Zoe@Conway)\n",
    "    (Gretchen@Kinney)\n",
    "    (Driscoll@Klein)\n",
    "    (Karyn@Diaz)\n",
    "    (Merritt@Guy)\n",
    "    (Kylan@Sexton)\n",
    "    (Jordan@Estes)\n",
    "    (Hope@Coffey)\n",
    "    (Vivian@Crane)\n",
    "    (Clio@Noel)\n",
    "    (Hope@Silva)\n",
    "    (Ayanna@Jarvis)\n",
    "    (Chanda@Boyer)\n",
    "    (Chadwick@Knight)"
   ]
  },
  {
   "cell_type": "code",
   "execution_count": 5,
   "metadata": {},
   "outputs": [
    {
     "name": "stdout",
     "output_type": "stream",
     "text": [
      "(Vivian@Hamilton)\n",
      "(Karen@Holcomb)\n",
      "(Cody@Garrett)\n",
      "(Roth@Fry)\n",
      "(Zoe@Conway)\n",
      "(Gretchen@Kinney)\n",
      "(Driscoll@Klein)\n",
      "(Karyn@Diaz)\n",
      "(Merritt@Guy)\n",
      "(Kylan@Sexton)\n",
      "(Jordan@Estes)\n",
      "(Hope@Coffey)\n",
      "(Vivian@Crane)\n",
      "(Clio@Noel)\n",
      "(Hope@Silva)\n",
      "(Ayanna@Jarvis)\n",
      "(Chanda@Boyer)\n",
      "(Chadwick@Knight)\n"
     ]
    }
   ],
   "source": [
    "%%pig\n",
    "-- >>> Write your answer here <<<\n",
    "\n",
    "y = FOREACH u GENERATE CONCAT(firstname, '@', surname);\n",
    "DUMP y;"
   ]
  },
  {
   "cell_type": "markdown",
   "metadata": {},
   "source": [
    "## Pregunta 2\n",
    "\n",
    "Genere una relación con el apellido y su longitud. Ordene por longitud y por apellido. Obtenga la siguiente salida.\n",
    "\n",
    "    (Hamilton,8)\n",
    "    (Garrett,7)\n",
    "    (Holcomb,7)\n",
    "    (Coffey,6)\n",
    "    (Conway,6)"
   ]
  },
  {
   "cell_type": "code",
   "execution_count": 18,
   "metadata": {},
   "outputs": [
    {
     "name": "stdout",
     "output_type": "stream",
     "text": [
      "(Hamilton,8)\n",
      "(Garrett,7)\n",
      "(Holcomb,7)\n",
      "(Coffey,6)\n",
      "(Conway,6)\n"
     ]
    }
   ],
   "source": [
    "%%pig\n",
    "-- >>> Write your answer here <<<\n",
    "t = FOREACH u GENERATE surname AS apellido, SIZE(surname) AS tamano;\n",
    "ordenados = ORDER t BY tamano DESC, apellido ASC;\n",
    "\n",
    "primeros = LIMIT ordenados 5;\n",
    "\n",
    "DUMP primeros;"
   ]
  },
  {
   "cell_type": "markdown",
   "metadata": {},
   "source": [
    "## Pregunta 3\n",
    "\n",
    "Escriba el código que genere la siguiente salida.\n",
    "\n",
    "    (Hamilton,HAMILTON,hamilton)\n",
    "    (Holcomb,HOLCOMB,holcomb)\n",
    "    (Garrett,GARRETT,garrett)\n",
    "    (Fry,FRY,fry)\n",
    "    (Conway,CONWAY,conway)"
   ]
  },
  {
   "cell_type": "code",
   "execution_count": 82,
   "metadata": {},
   "outputs": [
    {
     "name": "stdout",
     "output_type": "stream",
     "text": [
      "(Hamilton,HAMILTON,hamilton)\n",
      "(Holcomb,HOLCOMB,holcomb)\n",
      "(Garrett,GARRETT,garrett)\n",
      "(Fry,FRY,fry)\n",
      "(Conway,CONWAY,conway)\n"
     ]
    }
   ],
   "source": [
    "%%pig\n",
    "-- >>> Write your answer here <<<\n",
    "\n",
    "estilos = FOREACH u GENERATE surname AS apellido, \n",
    "                    UPPER(surname) AS mayuscula\n",
    "                    ,LOWER(surname) AS minuscula;\n",
    "primeros = LIMIT estilos 5;\n",
    "DUMP primeros;"
   ]
  },
  {
   "cell_type": "markdown",
   "metadata": {},
   "source": [
    "## Pregunta 4\n",
    "\n",
    "Obtenga los apellidos que empiecen por las letras entre la 'd' y la 'k'. La salida esperada es la siguiente:\n",
    "\n",
    "    (Hamilton)\n",
    "    (Holcomb)\n",
    "    (Garrett)\n",
    "    (Fry)\n",
    "    (Kinney)\n",
    "    (Klein)\n",
    "    (Diaz)\n",
    "    (Guy)\n",
    "    (Estes)\n",
    "    (Jarvis)\n",
    "    (Knight)"
   ]
  },
  {
   "cell_type": "code",
   "execution_count": 96,
   "metadata": {},
   "outputs": [
    {
     "name": "stdout",
     "output_type": "stream",
     "text": [
      "(Hamilton)\n",
      "(Holcomb)\n",
      "(Garrett)\n",
      "(Fry)\n",
      "(Kinney)\n",
      "(Klein)\n",
      "(Diaz)\n",
      "(Guy)\n",
      "(Estes)\n",
      "(Jarvis)\n",
      "(Knight)\n"
     ]
    }
   ],
   "source": [
    "%%pig\n",
    "-- >>> Write your answer here <<<\n",
    "\n",
    "datos_punto4 = FILTER (FOREACH u GENERATE surname) \n",
    "            BY SUBSTRING(surname,0,1) >= 'D' \n",
    "            AND SUBSTRING(surname,0,1) <= 'K';\n",
    "DUMP datos_punto4;"
   ]
  },
  {
   "cell_type": "markdown",
   "metadata": {},
   "source": [
    "## Pregunta 5\n",
    "\n",
    "Escriba el código equivalente a la siguiente consulta en SQL.\n",
    "\n",
    "    SELECT\n",
    "        color\n",
    "    FROM \n",
    "        u \n",
    "    WHERE \n",
    "        color \n",
    "    LIKE 'b%';"
   ]
  },
  {
   "cell_type": "code",
   "execution_count": 50,
   "metadata": {},
   "outputs": [
    {
     "name": "stdout",
     "output_type": "stream",
     "text": [
      "(black)\n",
      "(blue)\n",
      "(blue)\n",
      "(black)\n",
      "(blue)\n"
     ]
    }
   ],
   "source": [
    "%%pig\n",
    "-- >>> Write your answer here <<<\n",
    "\n",
    "g = FILTER (FOREACH u GENERATE color) \n",
    "    BY SUBSTRING(color,0,1) == 'b';\n",
    "\n",
    "DUMP g;"
   ]
  },
  {
   "cell_type": "markdown",
   "metadata": {},
   "source": [
    "## Pregunta 6\n",
    "\n",
    "Escriba el código equivalente a la siguiente consulta SQL.\n",
    "\n",
    "    SELECT \n",
    "        color \n",
    "    FROM \n",
    "        u \n",
    "    WHERE \n",
    "        color NOT LIKE 'b%';"
   ]
  },
  {
   "cell_type": "code",
   "execution_count": 37,
   "metadata": {},
   "outputs": [
    {
     "name": "stdout",
     "output_type": "stream",
     "text": [
      "(green)\n",
      "(green)\n",
      "(orange)\n",
      "(viole)\n",
      "(red)\n",
      "(indigo)\n",
      "(indigo)\n",
      "(green)\n",
      "(gray)\n",
      "(red)\n",
      "(orange)\n",
      "(green)\n",
      "(yellow)\n"
     ]
    }
   ],
   "source": [
    "%%pig\n",
    "-- >>> Write your answer here <<<\n",
    "gg = FOREACH u GENERATE color,\n",
    "        (SUBSTRING(color,0,1) == 'b' ? 1 : 0) AS empieza_b;\n",
    "ww = FILTER gg BY empieza_b == 0;\n",
    "total_distintos = FOREACH ww GENERATE color;\n",
    "DUMP total_distintos;"
   ]
  },
  {
   "cell_type": "markdown",
   "metadata": {},
   "source": [
    "## Pregunta 7\n",
    "\n",
    "Escriba el código equivalente a la siguiente consulta SQL.\n",
    "\n",
    "    SELECT \n",
    "        firstname,\n",
    "        color\n",
    "    FROM \n",
    "        u \n",
    "    WHERE color = 'blue' AND firstname LIKE 'Z%';"
   ]
  },
  {
   "cell_type": "code",
   "execution_count": 44,
   "metadata": {},
   "outputs": [
    {
     "name": "stdout",
     "output_type": "stream",
     "text": [
      "(Zoe,blue)\n"
     ]
    }
   ],
   "source": [
    "%%pig\n",
    "-- >>> Write your answer here <<<\n",
    "\n",
    "datos_punto7 = FILTER(FOREACH u GENERATE firstname, color) \n",
    "                                        BY color =='blue' \n",
    "                                        AND SUBSTRING(firstname,0,1) =='Z';\n",
    "DUMP datos_punto7;"
   ]
  },
  {
   "cell_type": "markdown",
   "metadata": {},
   "source": [
    "## Pregunta 8\n",
    "\n",
    "Escriba el código equivalente a la siguiente consulta SQL.\n",
    "\n",
    "    SELECT\n",
    "        firstname,\n",
    "        color\n",
    "    FROM \n",
    "        u\n",
    "    WHERE color = 'blue' OR firstname LIKE 'K%';"
   ]
  },
  {
   "cell_type": "code",
   "execution_count": 46,
   "metadata": {},
   "outputs": [
    {
     "name": "stdout",
     "output_type": "stream",
     "text": [
      "(Karen,green)\n",
      "(Zoe,blue)\n",
      "(Driscoll,blue)\n",
      "(Karyn,red)\n",
      "(Kylan,black)\n",
      "(Hope,blue)\n"
     ]
    }
   ],
   "source": [
    "%%pig\n",
    "-- >>> Write your answer here <<<\n",
    "\n",
    "datos_punto8 = FILTER(FOREACH u GENERATE firstname, color) \n",
    "                                        BY color =='blue' \n",
    "                                        OR SUBSTRING(firstname,0,1) =='K';\n",
    "DUMP datos_punto8;\n"
   ]
  },
  {
   "cell_type": "markdown",
   "metadata": {},
   "source": [
    "## Pregunta 9\n",
    "\n",
    "Escriba el código equivalente a la siguiente consulta SQL.\n",
    "\n",
    "    SELECT \n",
    "        firstname, color \n",
    "    FROM \n",
    "        u\n",
    "    WHERE color IN ('blue','black');"
   ]
  },
  {
   "cell_type": "code",
   "execution_count": 47,
   "metadata": {},
   "outputs": [
    {
     "name": "stdout",
     "output_type": "stream",
     "text": [
      "(Roth,black)\n",
      "(Zoe,blue)\n",
      "(Driscoll,blue)\n",
      "(Kylan,black)\n",
      "(Hope,blue)\n"
     ]
    }
   ],
   "source": [
    "%%pig\n",
    "-- >>> Write your answer here <<<\n",
    "\n",
    "datos_punto9 = FILTER(FOREACH u GENERATE firstname, color) \n",
    "                                        BY color IN ('blue','black');\n",
    "DUMP datos_punto9;\n"
   ]
  },
  {
   "cell_type": "markdown",
   "metadata": {},
   "source": [
    "## Pregunta 10\n",
    "\n",
    "Escriba el código equivalente a la siguiente consulta SQL.\n",
    "\n",
    "    SELECT \n",
    "        firstname, \n",
    "        color \n",
    "    FROM \n",
    "        u \n",
    "    WHERE color NOT IN ('blue','black');"
   ]
  },
  {
   "cell_type": "code",
   "execution_count": 48,
   "metadata": {},
   "outputs": [
    {
     "name": "stdout",
     "output_type": "stream",
     "text": [
      "(Vivian,green)\n",
      "(Karen,green)\n",
      "(Cody,orange)\n",
      "(Gretchen,viole)\n",
      "(Karyn,red)\n",
      "(Merritt,indigo)\n",
      "(Jordan,indigo)\n",
      "(Hope,green)\n",
      "(Vivian,gray)\n",
      "(Clio,red)\n",
      "(Ayanna,orange)\n",
      "(Chanda,green)\n",
      "(Chadwick,yellow)\n"
     ]
    }
   ],
   "source": [
    "%%pig\n",
    "-- >>> Write your answer here <<<\n",
    "\n",
    "datos_punto10 = FILTER(FOREACH u GENERATE firstname, color) \n",
    "                                        BY NOT color IN ('blue','black');\n",
    "DUMP datos_punto10;"
   ]
  },
  {
   "cell_type": "markdown",
   "metadata": {},
   "source": [
    "## Pregunta 11\n",
    "\n",
    "Escriba el código equivalente a la siguiente consulta SQL.\n",
    "\n",
    "    SELECT\n",
    "        firstname,\n",
    "        color\n",
    "    FROM \n",
    "        u \n",
    "    WHERE \n",
    "        color REGEXP '^b';"
   ]
  },
  {
   "cell_type": "code",
   "execution_count": 70,
   "metadata": {},
   "outputs": [
    {
     "name": "stdout",
     "output_type": "stream",
     "text": [
      "(Roth,black)\n",
      "(Zoe,blue)\n",
      "(Driscoll,blue)\n",
      "(Kylan,black)\n",
      "(Hope,blue)\n"
     ]
    }
   ],
   "source": [
    "%%pig\n",
    "-- >>> Write your answer here <<<\n",
    "datos_punto11 = FILTER(FOREACH u GENERATE firstname, color) \n",
    "                BY REGEX_EXTRACT(color,'(^b)',1) == 'b';\n",
    "DUMP datos_punto11;"
   ]
  },
  {
   "cell_type": "markdown",
   "metadata": {},
   "source": [
    "## Pregunta 12\n",
    "\n",
    "Escriba el código equivalente a la siguiente consulta SQL.\n",
    "\n",
    "    SELECT\n",
    "        firstname,\n",
    "        color\n",
    "    FROM \n",
    "        u \n",
    "    WHERE \n",
    "        color REGEXP '^[^b]';"
   ]
  },
  {
   "cell_type": "code",
   "execution_count": 72,
   "metadata": {},
   "outputs": [
    {
     "name": "stdout",
     "output_type": "stream",
     "text": [
      "(Vivian,green)\n",
      "(Karen,green)\n",
      "(Cody,orange)\n",
      "(Gretchen,viole)\n",
      "(Karyn,red)\n",
      "(Merritt,indigo)\n",
      "(Jordan,indigo)\n",
      "(Hope,green)\n",
      "(Vivian,gray)\n",
      "(Clio,red)\n",
      "(Ayanna,orange)\n",
      "(Chanda,green)\n",
      "(Chadwick,yellow)\n"
     ]
    }
   ],
   "source": [
    "%%pig\n",
    "-- >>> Write your answer here <<<\n",
    "\n",
    "datos_punto12 = FILTER(FOREACH u GENERATE firstname, color) \n",
    "                BY REGEX_EXTRACT(color,'(^[^b])',1) != 'b';\n",
    "DUMP datos_punto12;"
   ]
  },
  {
   "cell_type": "markdown",
   "metadata": {},
   "source": [
    "## Pregunta 13\n",
    "\n",
    "Escriba el código equivalente a la siguiente consulta SQL.\n",
    "\n",
    "    SELECT \n",
    "        firstname,\n",
    "        color\n",
    "    FROM \n",
    "        u\n",
    "    WHERE \n",
    "        color REGEXP 'blue|green';"
   ]
  },
  {
   "cell_type": "code",
   "execution_count": 74,
   "metadata": {},
   "outputs": [
    {
     "name": "stdout",
     "output_type": "stream",
     "text": [
      "(Vivian,green)\n",
      "(Karen,green)\n",
      "(Zoe,blue)\n",
      "(Driscoll,blue)\n",
      "(Hope,green)\n",
      "(Hope,blue)\n",
      "(Chanda,green)\n"
     ]
    }
   ],
   "source": [
    "%%pig\n",
    "-- >>> Write your answer here <<<\n",
    "\n",
    "datos_punto13 = FILTER(FOREACH u GENERATE firstname, color) \n",
    "                BY REGEX_EXTRACT(color,'(blue|black)',1) \n",
    "                IN ('blue','black');\n",
    "DUMP datos_punto13;"
   ]
  },
  {
   "cell_type": "markdown",
   "metadata": {},
   "source": [
    "## Pregunta 14\n",
    "\n",
    "Escriba el código equivalente a la siguiente consulta SQL.\n",
    "\n",
    "    SELECT \n",
    "        firstname,\n",
    "        color\n",
    "    FROM \n",
    "        u\n",
    "    WHERE \n",
    "        color REGEXP '.n';"
   ]
  },
  {
   "cell_type": "code",
   "execution_count": 81,
   "metadata": {},
   "outputs": [
    {
     "name": "stdout",
     "output_type": "stream",
     "text": [
      "(Vivian,green)\n",
      "(Karen,green)\n",
      "(Hope,green)\n",
      "(Chanda,green)\n"
     ]
    }
   ],
   "source": [
    "%%pig\n",
    "-- >>> Write your answer here <<<\n",
    "\n",
    "datos_punto14 = FILTER(FOREACH u GENERATE firstname, color) \n",
    "                BY REGEX_EXTRACT(color,'(.n$)',1) != '';\n",
    "\n",
    "\n",
    "DUMP datos_punto14;"
   ]
  },
  {
   "cell_type": "markdown",
   "metadata": {},
   "source": [
    "## Pregunta 15\n",
    "\n",
    "Escriba el código equivalente a la siguiente consulta SQL.\n",
    "\n",
    "    SELECT \n",
    "        firstname,\n",
    "        color \n",
    "    FROM \n",
    "        u \n",
    "    WHERE \n",
    "        color REGEXP '[aeiou]$';"
   ]
  },
  {
   "cell_type": "code",
   "execution_count": 80,
   "metadata": {},
   "outputs": [
    {
     "name": "stdout",
     "output_type": "stream",
     "text": [
      "(Cody,orange)\n",
      "(Zoe,blue)\n",
      "(Gretchen,viole)\n",
      "(Driscoll,blue)\n",
      "(Merritt,indigo)\n",
      "(Jordan,indigo)\n",
      "(Hope,blue)\n",
      "(Ayanna,orange)\n"
     ]
    }
   ],
   "source": [
    "%%pig\n",
    "-- >>> Write your answer here <<<\n",
    "\n",
    "datos_punto15 = FILTER(FOREACH u GENERATE firstname, color) \n",
    "                BY REGEX_EXTRACT(color,'([aeiou]$)',1) \n",
    "                IN ('a','e','i','o','u');\n",
    "DUMP datos_punto15;"
   ]
  },
  {
   "cell_type": "markdown",
   "metadata": {},
   "source": [
    "## Pregunta 16\n",
    "\n",
    "Escriba el código equivalente a la siguiente consulta SQL.\n",
    "\n",
    "    SELECT \n",
    "        REGEX_EXTRACT(birthday, '....-..-..', 2) \n",
    "    FROM \n",
    "        u;"
   ]
  },
  {
   "cell_type": "code",
   "execution_count": 85,
   "metadata": {},
   "outputs": [
    {
     "name": "stdout",
     "output_type": "stream",
     "text": [
      "(07)\n",
      "(05)\n",
      "(04)\n",
      "(01)\n",
      "(07)\n",
      "(10)\n",
      "(10)\n",
      "(02)\n",
      "(10)\n",
      "(02)\n",
      "(12)\n",
      "(12)\n",
      "(08)\n",
      "(12)\n",
      "(07)\n",
      "(02)\n",
      "(04)\n",
      "(04)\n"
     ]
    }
   ],
   "source": [
    "%%pig\n",
    "-- >>> Write your answer here <<<\n",
    "\n",
    "datos_punto16 = FOREACH u GENERATE \n",
    "                REGEX_EXTRACT(birthday,'(....)-(..)-(..)',2);\n",
    "DUMP datos_punto16;"
   ]
  },
  {
   "cell_type": "markdown",
   "metadata": {},
   "source": [
    "## Pregunta 17\n",
    "\n",
    "Escriba el código equivalente a la siguiente consulta SQL.\n",
    "\n",
    "    SELECT  \n",
    "        firstname,\n",
    "        SUBSTRING_INDEX(firstname, 'a', 1)\n",
    "    FROM \n",
    "        u;"
   ]
  },
  {
   "cell_type": "code",
   "execution_count": 91,
   "metadata": {},
   "outputs": [
    {
     "name": "stdout",
     "output_type": "stream",
     "text": [
      "(4)\n",
      "(1)\n",
      "(-1)\n",
      "(-1)\n",
      "(-1)\n",
      "(-1)\n",
      "(-1)\n",
      "(1)\n",
      "(-1)\n",
      "(3)\n",
      "(4)\n",
      "(-1)\n",
      "(4)\n",
      "(-1)\n",
      "(-1)\n",
      "(2)\n",
      "(2)\n",
      "(2)\n"
     ]
    }
   ],
   "source": [
    "%%pig\n",
    "-- >>> Write your answer here <<<\n",
    "datos_punto17 = FOREACH u GENERATE INDEXOF(firstname, 'a', 0);\n",
    "DUMP datos_punto17;\n"
   ]
  },
  {
   "cell_type": "markdown",
   "metadata": {},
   "source": [
    "## Pregunta 18\n",
    "\n",
    "Escriba el código equivalente a la siguiente consulta SQL.\n",
    "\n",
    "    SELECT \n",
    "        firstname \n",
    "    FROM \n",
    "        u \n",
    "    WHERE \n",
    "        SUBSTRING(firstname, 0, 1) >= 'm';"
   ]
  },
  {
   "cell_type": "code",
   "execution_count": 97,
   "metadata": {},
   "outputs": [
    {
     "name": "stdout",
     "output_type": "stream",
     "text": [
      "(Vivian)\n",
      "(Roth)\n",
      "(Zoe)\n",
      "(Merritt)\n",
      "(Vivian)\n"
     ]
    }
   ],
   "source": [
    "%%pig\n",
    "-- >>> Write your answer here <<<\n",
    "datos_punto18 = FILTER (FOREACH u GENERATE firstname)\n",
    "                BY SUBSTRING(firstname,0,1) >= 'M';\n",
    "DUMP datos_punto18;"
   ]
  },
  {
   "cell_type": "markdown",
   "metadata": {},
   "source": [
    "## Pregunta 19\n",
    "\n",
    "Escriba el código equivalente a la siguiente consulta SQL.\n",
    "\n",
    "    SELECT \n",
    "        firstname, \n",
    "        LOCATE('ia', firstname) \n",
    "    FROM \n",
    "        u;"
   ]
  },
  {
   "cell_type": "code",
   "execution_count": 98,
   "metadata": {},
   "outputs": [
    {
     "name": "stdout",
     "output_type": "stream",
     "text": [
      "(3)\n",
      "(-1)\n",
      "(-1)\n",
      "(-1)\n",
      "(-1)\n",
      "(-1)\n",
      "(-1)\n",
      "(-1)\n",
      "(-1)\n",
      "(-1)\n",
      "(-1)\n",
      "(-1)\n",
      "(3)\n",
      "(-1)\n",
      "(-1)\n",
      "(-1)\n",
      "(-1)\n",
      "(-1)\n"
     ]
    }
   ],
   "source": [
    "%%pig\n",
    "-- >>> Write your answer here <<<\n",
    "datos_punto19 = FOREACH u GENERATE INDEXOF(firstname, 'ia', 0);\n",
    "DUMP datos_punto19;"
   ]
  },
  {
   "cell_type": "markdown",
   "metadata": {},
   "source": [
    "## Pregunta 20\n",
    "\n",
    "Escriba el código en Pig para manipulación de fechas que genere sea equivalente a la siguiente consulta SQL.\n",
    "\n",
    "    SELECT \n",
    "        birthday, \n",
    "        DATE_FORMAT(birthday, \"yyyy\"),\n",
    "        DATE_FORMAT(birthday, \"yy\"),\n",
    "    FROM \n",
    "        persons\n",
    "    LIMIT\n",
    "        5;"
   ]
  },
  {
   "cell_type": "code",
   "execution_count": 109,
   "metadata": {},
   "outputs": [
    {
     "name": "stdout",
     "output_type": "stream",
     "text": [
      "(1971,71)\n",
      "(1974,74)\n",
      "(1973,73)\n",
      "(1975,75)\n",
      "(1974,74)\n",
      "(1974,74)\n",
      "(1970,70)\n",
      "(1969,69)\n",
      "(1974,74)\n",
      "(1975,75)\n",
      "(1969,69)\n",
      "(1973,73)\n",
      "(1970,70)\n",
      "(1972,72)\n",
      "(1970,70)\n",
      "(1974,74)\n",
      "(1973,73)\n",
      "(1973,73)\n"
     ]
    }
   ],
   "source": [
    "%%pig\n",
    "-- >>> Write your answer here <<<\n",
    "\n",
    "datos_punto20 = FOREACH u GENERATE \n",
    "                ToString(ToDate(birthday, 'yyyy-MM-dd'),'yyyy'),\n",
    "                ToString(ToDate(birthday, 'yyyy-MM-dd'),'yy');\n",
    "DUMP datos_punto20;"
   ]
  },
  {
   "cell_type": "markdown",
   "metadata": {},
   "source": [
    "## Pregunta 21\n",
    "\n",
    "Escriba el código en Pig para manipulación de fechas que genere la siguiente salida.\n",
    "\n",
    "    (1971-07-08,jul,07,7)\n",
    "    (1974-05-23,may,05,5)\n",
    "    (1973-04-22,abr,04,4)\n",
    "    (1975-01-29,ene,01,1)\n",
    "    (1974-07-03,jul,07,7)\n",
    "    (1974-10-18,oct,10,10)\n",
    "    (1970-10-05,oct,10,10)\n",
    "    (1969-02-24,feb,02,2)\n",
    "    (1974-10-17,oct,10,10)\n",
    "    (1975-02-28,feb,02,2)\n",
    "    (1969-12-07,dic,12,12)\n",
    "    (1973-12-24,dic,12,12)\n",
    "    (1970-08-27,ago,08,8)\n",
    "    (1972-12-12,dic,12,12)\n",
    "    (1970-07-01,jul,07,7)\n",
    "    (1974-02-11,feb,02,2)\n",
    "    (1973-04-01,abr,04,4)\n",
    "    (1973-04-29,abr,04,4)"
   ]
  },
  {
   "cell_type": "code",
   "execution_count": 112,
   "metadata": {},
   "outputs": [
    {
     "name": "stdout",
     "output_type": "stream",
     "text": [
      "(1971-07-08,jul,07,08)\n",
      "(1974-05-23,may,05,23)\n",
      "(1973-04-22,apr,04,22)\n",
      "(1975-01-29,jan,01,29)\n",
      "(1974-07-03,jul,07,03)\n",
      "(1974-10-18,oct,10,18)\n",
      "(1970-10-05,oct,10,05)\n",
      "(1969-02-24,feb,02,24)\n",
      "(1974-10-17,oct,10,17)\n",
      "(1975-02-28,feb,02,28)\n",
      "(1969-12-07,dec,12,07)\n",
      "(1973-12-24,dec,12,24)\n",
      "(1970-08-27,aug,08,27)\n",
      "(1972-12-12,dec,12,12)\n",
      "(1970-07-01,jul,07,01)\n",
      "(1974-02-11,feb,02,11)\n",
      "(1973-04-01,apr,04,01)\n",
      "(1973-04-29,apr,04,29)\n"
     ]
    }
   ],
   "source": [
    "%%pig\n",
    "-- >>> Write your answer here <<<\n",
    "datos_punto21 = FOREACH u GENERATE \n",
    "                ToString(ToDate(birthday, 'yyyy-MM-dd'),'yyyy-MM-dd'),\n",
    "                LOWER(ToString(ToDate(birthday, 'yyyy-MM-dd'),'MMM')),\n",
    "                ToString(ToDate(birthday, 'yyyy-MM-dd'),'MM'),\n",
    "                ToString(ToDate(birthday, 'yyyy-MM-dd'),'dd');\n",
    "DUMP datos_punto21;"
   ]
  },
  {
   "cell_type": "markdown",
   "metadata": {},
   "source": [
    "## Pregunta 22\n",
    "\n",
    "Escriba el código en Pig para manipulación de fechas que genere la siguiente salida:\n",
    "\n",
    "    (1971-07-08,08,8,jue,jueves)\n",
    "    (1974-05-23,23,23,jue,jueves)\n",
    "    (1973-04-22,22,22,dom,domingo)\n",
    "    (1975-01-29,29,29,mié,miércoles)\n",
    "    (1974-07-03,03,3,mié,miércoles)\n",
    "    (1974-10-18,18,18,vie,viernes)\n",
    "    (1970-10-05,05,5,lun,lunes)\n",
    "    (1969-02-24,24,24,lun,lunes)\n",
    "    (1974-10-17,17,17,jue,jueves)\n",
    "    (1975-02-28,28,28,vie,viernes)\n",
    "    (1969-12-07,07,7,dom,domingo)\n",
    "    (1973-12-24,24,24,lun,lunes)\n",
    "    (1970-08-27,27,27,jue,jueves)\n",
    "    (1972-12-12,12,12,mar,martes)\n",
    "    (1970-07-01,01,1,mié,miércoles)\n",
    "    (1974-02-11,11,11,lun,lunes)\n",
    "    (1973-04-01,01,1,dom,domingo)\n",
    "    (1973-04-29,29,29,dom,domingo)"
   ]
  },
  {
   "cell_type": "code",
   "execution_count": 136,
   "metadata": {},
   "outputs": [
    {
     "name": "stdout",
     "output_type": "stream",
     "text": [
      "(1971-07-08,08,8,thu,thursday)\n",
      "(1974-05-23,23,23,thu,thursday)\n",
      "(1973-04-22,22,22,sun,sunday)\n",
      "(1975-01-29,29,29,wed,wednesday)\n",
      "(1974-07-03,03,3,wed,wednesday)\n",
      "(1974-10-18,18,18,fri,friday)\n",
      "(1970-10-05,05,5,mon,monday)\n",
      "(1969-02-24,24,24,mon,monday)\n",
      "(1974-10-17,17,17,thu,thursday)\n",
      "(1975-02-28,28,28,fri,friday)\n",
      "(1969-12-07,07,7,sun,sunday)\n",
      "(1973-12-24,24,24,mon,monday)\n",
      "(1970-08-27,27,27,thu,thursday)\n",
      "(1972-12-12,12,12,tue,tuesday)\n",
      "(1970-07-01,01,1,wed,wednesday)\n",
      "(1974-02-11,11,11,mon,monday)\n",
      "(1973-04-01,01,1,sun,sunday)\n",
      "(1973-04-29,29,29,sun,sunday)\n"
     ]
    }
   ],
   "source": [
    "%%pig\n",
    "-- >>> Write your answer here <<<\n",
    "\n",
    "datos_punto22 = FOREACH u GENERATE \n",
    "                ToString(ToDate(birthday, 'yyyy-MM-dd'),'yyyy-MM-dd'),\n",
    "                ToString(ToDate(birthday, 'yyyy-MM-dd'),'dd'),\n",
    "                ToString(ToDate(birthday, 'yyyy-MM-dd'),'d'),\n",
    "                LOWER(ToString(ToDate(birthday, 'yyyy-MM-dd'),'EEE')),\n",
    "                LOWER(ToString(ToDate(birthday, 'yyyy-MM-dd'),'EEEE'));\n",
    "DUMP datos_punto22;"
   ]
  },
  {
   "cell_type": "markdown",
   "metadata": {},
   "source": [
    "## Pregunta 23\n",
    "\n",
    "Cuente la cantidad de personas nacidas por año."
   ]
  },
  {
   "cell_type": "code",
   "execution_count": 150,
   "metadata": {},
   "outputs": [
    {
     "name": "stdout",
     "output_type": "stream",
     "text": [
      "(1969,2)\n",
      "(1970,3)\n",
      "(1971,1)\n",
      "(1972,1)\n",
      "(1973,4)\n",
      "(1974,5)\n",
      "(1975,2)\n"
     ]
    }
   ],
   "source": [
    "%%pig\n",
    "-- >>> Write your answer here <<<\n",
    "\n",
    "datos_punto23 = FOREACH u GENERATE \n",
    "                birthday AS fecha,\n",
    "                ToString(ToDate(birthday, 'yyyy-MM-dd'),'yyyy') AS mes;\n",
    "\n",
    "grouped = GROUP datos_punto23 BY (mes);\n",
    "conteo = FOREACH grouped GENERATE group, COUNT(datos_punto23.mes);\n",
    "\n",
    "DUMP conteo;\n"
   ]
  },
  {
   "cell_type": "markdown",
   "metadata": {},
   "source": [
    "---"
   ]
  },
  {
   "cell_type": "code",
   "execution_count": null,
   "metadata": {
    "collapsed": true
   },
   "outputs": [],
   "source": [
    "!rm pig_* data.csv"
   ]
  },
  {
   "cell_type": "markdown",
   "metadata": {},
   "source": [
    "---"
   ]
  }
 ],
 "metadata": {
  "kernelspec": {
   "display_name": "Python 3",
   "language": "python",
   "name": "python3"
  },
  "language_info": {
   "codemirror_mode": {
    "name": "ipython",
    "version": 3
   },
   "file_extension": ".py",
   "mimetype": "text/x-python",
   "name": "python",
   "nbconvert_exporter": "python",
   "pygments_lexer": "ipython3",
   "version": "3.6.1"
  }
 },
 "nbformat": 4,
 "nbformat_minor": 2
}
